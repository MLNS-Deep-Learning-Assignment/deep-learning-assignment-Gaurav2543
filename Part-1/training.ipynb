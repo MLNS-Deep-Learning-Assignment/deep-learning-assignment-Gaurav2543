{
 "cells": [
  {
   "cell_type": "code",
   "execution_count": null,
   "metadata": {},
   "outputs": [],
   "source": [
    "import torch\n",
    "import numpy as np\n",
    "import torch.nn as nn\n",
    "from tqdm import tqdm\n",
    "import torch.optim as optim\n",
    "import matplotlib.pyplot as plt\n",
    "from collections import defaultdict\n",
    "from torch.utils.data import DataLoader, random_split, Dataset"
   ]
  },
  {
   "cell_type": "markdown",
   "metadata": {},
   "source": [
    "## Dataset"
   ]
  },
  {
   "cell_type": "code",
   "execution_count": null,
   "metadata": {},
   "outputs": [],
   "source": [
    "def custom_collate(batch):\n",
    "    \"\"\"Custom collate function for digit dataset\"\"\"\n",
    "    transformed = torch.stack([item['transformed'] for item in batch])\n",
    "    labels = torch.stack([item['label'] for item in batch])\n",
    "    return {\n",
    "        'transformed': transformed,\n",
    "        'label': labels\n",
    "    }\n",
    "\n",
    "class DigitDataset(Dataset):\n",
    "    \"\"\"Dataset class for digit data\"\"\"\n",
    "    def __init__(self, images, labels):\n",
    "        self.images = torch.FloatTensor(images).reshape(-1, 1, 40, 168)\n",
    "        # Normalize but keep single channel\n",
    "        self.model_input = (self.images - self.images.mean()) / self.images.std()\n",
    "        self.labels = torch.LongTensor(labels)\n",
    "    \n",
    "    def __len__(self):\n",
    "        return len(self.labels)\n",
    "    \n",
    "    def __getitem__(self, idx):\n",
    "        return {\n",
    "            'transformed': self.model_input[idx],\n",
    "            'label': self.labels[idx]\n",
    "        }"
   ]
  },
  {
   "cell_type": "markdown",
   "metadata": {},
   "source": [
    "## Model"
   ]
  },
  {
   "cell_type": "code",
   "execution_count": null,
   "metadata": {},
   "outputs": [],
   "source": [
    "class CustomCNN(nn.Module):\n",
    "    def __init__(self, num_classes=37):  # 0 to 36 inclusive\n",
    "        super().__init__()\n",
    "        \n",
    "        # Feature extraction layers\n",
    "        self.features = nn.Sequential(\n",
    "            # First conv block\n",
    "            nn.Conv2d(1, 32, kernel_size=3, padding=1),\n",
    "            nn.BatchNorm2d(32),\n",
    "            nn.ReLU(inplace=True),\n",
    "            nn.Conv2d(32, 32, kernel_size=3, padding=1),\n",
    "            nn.BatchNorm2d(32),\n",
    "            nn.ReLU(inplace=True),\n",
    "            nn.MaxPool2d(2, 2),\n",
    "            nn.Dropout2d(0.25),\n",
    "            \n",
    "            # Second conv block\n",
    "            nn.Conv2d(32, 64, kernel_size=3, padding=1),\n",
    "            nn.BatchNorm2d(64),\n",
    "            nn.ReLU(inplace=True),\n",
    "            nn.Conv2d(64, 64, kernel_size=3, padding=1),\n",
    "            nn.BatchNorm2d(64),\n",
    "            nn.ReLU(inplace=True),\n",
    "            nn.MaxPool2d(2, 2),\n",
    "            nn.Dropout2d(0.25),\n",
    "            \n",
    "            # Third conv block\n",
    "            nn.Conv2d(64, 128, kernel_size=3, padding=1),\n",
    "            nn.BatchNorm2d(128),\n",
    "            nn.ReLU(inplace=True),\n",
    "            nn.Conv2d(128, 128, kernel_size=3, padding=1),\n",
    "            nn.BatchNorm2d(128),\n",
    "            nn.ReLU(inplace=True),\n",
    "            nn.MaxPool2d(2, 2),\n",
    "            nn.Dropout2d(0.25)\n",
    "        )\n",
    "        \n",
    "        # Calculate size of flattened features\n",
    "        self._to_linear = self._get_conv_output_size((1, 40, 168))\n",
    "        \n",
    "        # Classification layers\n",
    "        self.classifier = nn.Sequential(\n",
    "            nn.Linear(self._to_linear, 512),\n",
    "            nn.ReLU(inplace=True),\n",
    "            nn.Dropout(0.5),\n",
    "            nn.Linear(512, 256),\n",
    "            nn.ReLU(inplace=True),\n",
    "            nn.Dropout(0.5),\n",
    "            nn.Linear(256, num_classes)\n",
    "        )\n",
    "        \n",
    "        # Initialize weights\n",
    "        self._initialize_weights()\n",
    "    \n",
    "    def _get_conv_output_size(self, shape):\n",
    "        \"\"\"Calculate the size of flattened features after convolutions\"\"\"\n",
    "        batch_size = 1\n",
    "        input = torch.autograd.Variable(torch.rand(batch_size, *shape))\n",
    "        output_feat = self.features(input)\n",
    "        n_size = output_feat.data.view(batch_size, -1).size(1)\n",
    "        return n_size\n",
    "    \n",
    "    def _initialize_weights(self):\n",
    "        \"\"\"Initialize model weights\"\"\"\n",
    "        for m in self.modules():\n",
    "            if isinstance(m, nn.Conv2d):\n",
    "                nn.init.kaiming_normal_(m.weight, mode='fan_out', nonlinearity='relu')\n",
    "                if m.bias is not None:\n",
    "                    nn.init.constant_(m.bias, 0)\n",
    "            elif isinstance(m, nn.BatchNorm2d):\n",
    "                nn.init.constant_(m.weight, 1)\n",
    "                nn.init.constant_(m.bias, 0)\n",
    "            elif isinstance(m, nn.Linear):\n",
    "                nn.init.normal_(m.weight, 0, 0.01)\n",
    "                nn.init.constant_(m.bias, 0)\n",
    "    \n",
    "    def forward(self, x):\n",
    "        x = self.features(x)\n",
    "        x = x.view(x.size(0), -1)\n",
    "        x = self.classifier(x)\n",
    "        return x"
   ]
  },
  {
   "cell_type": "markdown",
   "metadata": {},
   "source": [
    "## Training"
   ]
  },
  {
   "cell_type": "code",
   "execution_count": null,
   "metadata": {},
   "outputs": [],
   "source": [
    "def train_model(train_loader, val_loader, model, criterion, optimizer, device, num_epochs=100, lr=1e-3, batch_size=256):\n",
    "    \"\"\"Train the model and return training history\"\"\"\n",
    "    history = defaultdict(list)\n",
    "    best_val_acc = 0\n",
    "    \n",
    "    for epoch in range(num_epochs):\n",
    "        # Training phase\n",
    "        model.train()\n",
    "        train_loss = 0\n",
    "        train_correct = 0\n",
    "        train_total = 0\n",
    "        \n",
    "        train_bar = tqdm(train_loader, desc=f'Epoch {epoch+1}/{num_epochs} [Train]')\n",
    "        for batch in train_bar:\n",
    "            inputs = batch['transformed'].to(device)\n",
    "            labels = batch['label'].to(device)\n",
    "            \n",
    "            optimizer.zero_grad()\n",
    "            outputs = model(inputs)\n",
    "            loss = criterion(outputs, labels)\n",
    "            \n",
    "            loss.backward()\n",
    "            optimizer.step()\n",
    "            \n",
    "            train_loss += loss.item()\n",
    "            _, predicted = outputs.max(1)\n",
    "            train_total += labels.size(0)\n",
    "            train_correct += predicted.eq(labels).sum().item()\n",
    "            \n",
    "            # Update progress bar\n",
    "            train_bar.set_postfix({\n",
    "                'loss': f'{train_loss/train_total:.3f}',\n",
    "                'acc': f'{100.*train_correct/train_total:.2f}%'\n",
    "            })\n",
    "        \n",
    "        # Validation phase\n",
    "        model.eval()\n",
    "        val_loss = 0\n",
    "        val_correct = 0\n",
    "        val_total = 0\n",
    "        \n",
    "        with torch.no_grad():\n",
    "            val_bar = tqdm(val_loader, desc=f'Epoch {epoch+1}/{num_epochs} [Val]')\n",
    "            for batch in val_bar:\n",
    "                inputs = batch['transformed'].to(device)\n",
    "                labels = batch['label'].to(device)\n",
    "                \n",
    "                outputs = model(inputs)\n",
    "                loss = criterion(outputs, labels)\n",
    "                \n",
    "                val_loss += loss.item()\n",
    "                _, predicted = outputs.max(1)\n",
    "                val_total += labels.size(0)\n",
    "                val_correct += predicted.eq(labels).sum().item()\n",
    "                \n",
    "                # Update progress bar\n",
    "                val_bar.set_postfix({\n",
    "                    'loss': f'{val_loss/val_total:.3f}',\n",
    "                    'acc': f'{100.*val_correct/val_total:.2f}%'\n",
    "                })\n",
    "        \n",
    "        # Save metrics\n",
    "        train_acc = 100. * train_correct / train_total\n",
    "        val_acc = 100. * val_correct / val_total\n",
    "        \n",
    "        history['train_loss'].append(train_loss / train_total)\n",
    "        history['train_acc'].append(train_acc)\n",
    "        history['val_loss'].append(val_loss / val_total)\n",
    "        history['val_acc'].append(val_acc)\n",
    "        \n",
    "        # Save best model\n",
    "        if val_acc > best_val_acc:\n",
    "            best_val_acc = val_acc\n",
    "            torch.save(model.state_dict(), f'best_digit_sum_cnn_batch{batch_size}_lr{lr}.pt')\n",
    "            print(f'New best model saved with validation accuracy: {val_acc:.2f}%')\n",
    "    \n",
    "    return history\n",
    "\n",
    "def plot_training_history(history):\n",
    "    \"\"\"Plot training and validation metrics\"\"\"\n",
    "    fig, (ax1, ax2) = plt.subplots(1, 2, figsize=(15, 5))\n",
    "    \n",
    "    # Plot losses\n",
    "    ax1.plot(history['train_loss'], label='Train Loss')\n",
    "    ax1.plot(history['val_loss'], label='Validation Loss')\n",
    "    ax1.set_title('Loss over epochs')\n",
    "    ax1.set_xlabel('Epoch')\n",
    "    ax1.set_ylabel('Loss')\n",
    "    ax1.legend()\n",
    "    \n",
    "    # Plot accuracies\n",
    "    ax2.plot(history['train_acc'], label='Train Accuracy')\n",
    "    ax2.plot(history['val_acc'], label='Validation Accuracy')\n",
    "    ax2.set_title('Accuracy over epochs')\n",
    "    ax2.set_xlabel('Epoch')\n",
    "    ax2.set_ylabel('Accuracy (%)')\n",
    "    ax2.legend()\n",
    "    \n",
    "    plt.tight_layout()\n",
    "    plt.savefig('training_history_cnn.png')\n",
    "    plt.close()"
   ]
  },
  {
   "cell_type": "code",
   "execution_count": 1,
   "metadata": {},
   "outputs": [
    {
     "name": "stdout",
     "output_type": "stream",
     "text": [
      "Loading data...\n"
     ]
    },
    {
     "name": "stderr",
     "output_type": "stream",
     "text": [
      "Loading data files: 100%|██████████| 6/6 [00:00<00:00, 66.66it/s]"
     ]
    },
    {
     "name": "stdout",
     "output_type": "stream",
     "text": [
      "\n",
      "Combining datasets...\n",
      "Final data shapes - Images: (30000, 40, 168), Labels: (30000,)\n",
      "\n",
      "Creating dataset...\n"
     ]
    },
    {
     "name": "stderr",
     "output_type": "stream",
     "text": [
      "\n"
     ]
    },
    {
     "name": "stdout",
     "output_type": "stream",
     "text": [
      "\n",
      "Splitting dataset:\n",
      "Train size: 22500\n",
      "Validation size: 3000\n",
      "Test size: 4500\n",
      "\n",
      "Using device: cuda\n",
      "\n",
      "Starting hyperparameter search...\n"
     ]
    },
    {
     "name": "stderr",
     "output_type": "stream",
     "text": [
      "Batch sizes:   0%|          | 0/1 [00:00<?, ?it/s]"
     ]
    },
    {
     "name": "stdout",
     "output_type": "stream",
     "text": [
      "\n",
      "Testing batch_size=64, learning_rate=0.0001\n"
     ]
    },
    {
     "name": "stderr",
     "output_type": "stream",
     "text": [
      "Epoch 1/100 [Train]: 100%|██████████| 352/352 [00:18<00:00, 18.82it/s, loss=0.051, acc=5.83%]\n",
      "Epoch 1/100 [Val]: 100%|██████████| 47/47 [00:01<00:00, 38.62it/s, loss=0.050, acc=5.87%]\n"
     ]
    },
    {
     "name": "stdout",
     "output_type": "stream",
     "text": [
      "New best model saved with validation accuracy: 5.87%\n"
     ]
    },
    {
     "name": "stderr",
     "output_type": "stream",
     "text": [
      "Epoch 2/100 [Train]: 100%|██████████| 352/352 [00:17<00:00, 20.42it/s, loss=0.050, acc=6.28%]\n",
      "Epoch 2/100 [Val]: 100%|██████████| 47/47 [00:01<00:00, 45.14it/s, loss=0.050, acc=7.00%]\n"
     ]
    },
    {
     "name": "stdout",
     "output_type": "stream",
     "text": [
      "New best model saved with validation accuracy: 7.00%\n"
     ]
    },
    {
     "name": "stderr",
     "output_type": "stream",
     "text": [
      "Epoch 3/100 [Train]: 100%|██████████| 352/352 [00:17<00:00, 19.69it/s, loss=0.050, acc=6.44%]\n",
      "Epoch 3/100 [Val]: 100%|██████████| 47/47 [00:01<00:00, 38.72it/s, loss=0.050, acc=6.57%]\n",
      "Epoch 4/100 [Train]: 100%|██████████| 352/352 [00:18<00:00, 19.48it/s, loss=0.050, acc=6.46%]\n",
      "Epoch 4/100 [Val]: 100%|██████████| 47/47 [00:01<00:00, 37.41it/s, loss=0.050, acc=6.97%]\n",
      "Epoch 5/100 [Train]: 100%|██████████| 352/352 [00:17<00:00, 19.76it/s, loss=0.049, acc=6.44%]\n",
      "Epoch 5/100 [Val]: 100%|██████████| 47/47 [00:01<00:00, 45.45it/s, loss=0.049, acc=7.00%]\n",
      "Epoch 6/100 [Train]: 100%|██████████| 352/352 [00:17<00:00, 19.74it/s, loss=0.048, acc=7.56%]\n",
      "Epoch 6/100 [Val]: 100%|██████████| 47/47 [00:01<00:00, 38.19it/s, loss=0.047, acc=9.00%]\n"
     ]
    },
    {
     "name": "stdout",
     "output_type": "stream",
     "text": [
      "New best model saved with validation accuracy: 9.00%\n"
     ]
    },
    {
     "name": "stderr",
     "output_type": "stream",
     "text": [
      "Epoch 7/100 [Train]: 100%|██████████| 352/352 [00:17<00:00, 19.79it/s, loss=0.046, acc=8.57%]\n",
      "Epoch 7/100 [Val]: 100%|██████████| 47/47 [00:01<00:00, 39.26it/s, loss=0.043, acc=10.47%]\n"
     ]
    },
    {
     "name": "stdout",
     "output_type": "stream",
     "text": [
      "New best model saved with validation accuracy: 10.47%\n"
     ]
    },
    {
     "name": "stderr",
     "output_type": "stream",
     "text": [
      "Epoch 8/100 [Train]: 100%|██████████| 352/352 [00:20<00:00, 17.11it/s, loss=0.044, acc=9.95%]\n",
      "Epoch 8/100 [Val]: 100%|██████████| 47/47 [00:01<00:00, 46.21it/s, loss=0.042, acc=12.63%]\n"
     ]
    },
    {
     "name": "stdout",
     "output_type": "stream",
     "text": [
      "New best model saved with validation accuracy: 12.63%\n"
     ]
    },
    {
     "name": "stderr",
     "output_type": "stream",
     "text": [
      "Epoch 9/100 [Train]: 100%|██████████| 352/352 [00:17<00:00, 20.10it/s, loss=0.042, acc=11.19%]\n",
      "Epoch 9/100 [Val]: 100%|██████████| 47/47 [00:01<00:00, 39.14it/s, loss=0.044, acc=8.67%]\n",
      "Epoch 10/100 [Train]: 100%|██████████| 352/352 [00:18<00:00, 19.35it/s, loss=0.041, acc=12.00%]\n",
      "Epoch 10/100 [Val]: 100%|██████████| 47/47 [00:01<00:00, 38.95it/s, loss=0.040, acc=12.43%]\n",
      "Epoch 11/100 [Train]: 100%|██████████| 352/352 [00:17<00:00, 19.68it/s, loss=0.040, acc=12.79%]\n",
      "Epoch 11/100 [Val]: 100%|██████████| 47/47 [00:01<00:00, 38.18it/s, loss=0.039, acc=13.90%]\n"
     ]
    },
    {
     "name": "stdout",
     "output_type": "stream",
     "text": [
      "New best model saved with validation accuracy: 13.90%\n"
     ]
    },
    {
     "name": "stderr",
     "output_type": "stream",
     "text": [
      "Epoch 12/100 [Train]: 100%|██████████| 352/352 [00:18<00:00, 19.42it/s, loss=0.040, acc=13.51%]\n",
      "Epoch 12/100 [Val]: 100%|██████████| 47/47 [00:01<00:00, 41.44it/s, loss=0.038, acc=15.37%]\n"
     ]
    },
    {
     "name": "stdout",
     "output_type": "stream",
     "text": [
      "New best model saved with validation accuracy: 15.37%\n"
     ]
    },
    {
     "name": "stderr",
     "output_type": "stream",
     "text": [
      "Epoch 13/100 [Train]: 100%|██████████| 352/352 [00:18<00:00, 19.43it/s, loss=0.039, acc=14.30%]\n",
      "Epoch 13/100 [Val]: 100%|██████████| 47/47 [00:01<00:00, 38.40it/s, loss=0.037, acc=16.53%]\n"
     ]
    },
    {
     "name": "stdout",
     "output_type": "stream",
     "text": [
      "New best model saved with validation accuracy: 16.53%\n"
     ]
    },
    {
     "name": "stderr",
     "output_type": "stream",
     "text": [
      "Epoch 14/100 [Train]: 100%|██████████| 352/352 [00:17<00:00, 20.00it/s, loss=0.038, acc=14.49%]\n",
      "Epoch 14/100 [Val]: 100%|██████████| 47/47 [00:01<00:00, 39.38it/s, loss=0.037, acc=15.10%]\n",
      "Epoch 15/100 [Train]: 100%|██████████| 352/352 [00:17<00:00, 19.75it/s, loss=0.038, acc=14.74%]\n",
      "Epoch 15/100 [Val]: 100%|██████████| 47/47 [00:01<00:00, 39.13it/s, loss=0.037, acc=15.67%]\n",
      "Epoch 16/100 [Train]: 100%|██████████| 352/352 [00:18<00:00, 19.34it/s, loss=0.037, acc=15.37%]\n",
      "Epoch 16/100 [Val]: 100%|██████████| 47/47 [00:01<00:00, 39.08it/s, loss=0.036, acc=17.87%]\n"
     ]
    },
    {
     "name": "stdout",
     "output_type": "stream",
     "text": [
      "New best model saved with validation accuracy: 17.87%\n"
     ]
    },
    {
     "name": "stderr",
     "output_type": "stream",
     "text": [
      "Epoch 17/100 [Train]: 100%|██████████| 352/352 [00:17<00:00, 19.77it/s, loss=0.037, acc=15.83%]\n",
      "Epoch 17/100 [Val]: 100%|██████████| 47/47 [00:01<00:00, 39.06it/s, loss=0.037, acc=15.33%]\n",
      "Epoch 18/100 [Train]: 100%|██████████| 352/352 [00:17<00:00, 19.67it/s, loss=0.036, acc=16.06%]\n",
      "Epoch 18/100 [Val]: 100%|██████████| 47/47 [00:01<00:00, 37.75it/s, loss=0.035, acc=18.10%]\n"
     ]
    },
    {
     "name": "stdout",
     "output_type": "stream",
     "text": [
      "New best model saved with validation accuracy: 18.10%\n"
     ]
    },
    {
     "name": "stderr",
     "output_type": "stream",
     "text": [
      "Epoch 19/100 [Train]: 100%|██████████| 352/352 [00:18<00:00, 19.42it/s, loss=0.036, acc=16.32%]\n",
      "Epoch 19/100 [Val]: 100%|██████████| 47/47 [00:01<00:00, 37.62it/s, loss=0.036, acc=17.23%]\n",
      "Epoch 20/100 [Train]: 100%|██████████| 352/352 [00:17<00:00, 20.34it/s, loss=0.036, acc=17.05%]\n",
      "Epoch 20/100 [Val]: 100%|██████████| 47/47 [00:01<00:00, 38.55it/s, loss=0.036, acc=16.60%]\n",
      "Epoch 21/100 [Train]: 100%|██████████| 352/352 [00:18<00:00, 19.34it/s, loss=0.035, acc=17.51%]\n",
      "Epoch 21/100 [Val]: 100%|██████████| 47/47 [00:01<00:00, 38.79it/s, loss=0.034, acc=22.43%]\n"
     ]
    },
    {
     "name": "stdout",
     "output_type": "stream",
     "text": [
      "New best model saved with validation accuracy: 22.43%\n"
     ]
    },
    {
     "name": "stderr",
     "output_type": "stream",
     "text": [
      "Epoch 22/100 [Train]: 100%|██████████| 352/352 [00:17<00:00, 19.80it/s, loss=0.035, acc=17.67%]\n",
      "Epoch 22/100 [Val]: 100%|██████████| 47/47 [00:01<00:00, 36.96it/s, loss=0.033, acc=20.90%]\n",
      "Epoch 23/100 [Train]: 100%|██████████| 352/352 [00:17<00:00, 20.56it/s, loss=0.035, acc=18.04%]\n",
      "Epoch 23/100 [Val]: 100%|██████████| 47/47 [00:01<00:00, 35.45it/s, loss=0.034, acc=19.33%]\n",
      "Epoch 24/100 [Train]: 100%|██████████| 352/352 [00:17<00:00, 19.75it/s, loss=0.034, acc=18.61%]\n",
      "Epoch 24/100 [Val]: 100%|██████████| 47/47 [00:01<00:00, 38.81it/s, loss=0.032, acc=22.17%]\n",
      "Epoch 25/100 [Train]: 100%|██████████| 352/352 [00:18<00:00, 19.45it/s, loss=0.034, acc=18.88%]\n",
      "Epoch 25/100 [Val]: 100%|██████████| 47/47 [00:01<00:00, 39.67it/s, loss=0.034, acc=19.30%]\n",
      "Epoch 26/100 [Train]: 100%|██████████| 352/352 [00:17<00:00, 19.85it/s, loss=0.034, acc=19.62%]\n",
      "Epoch 26/100 [Val]: 100%|██████████| 47/47 [00:01<00:00, 41.67it/s, loss=0.032, acc=23.57%]\n"
     ]
    },
    {
     "name": "stdout",
     "output_type": "stream",
     "text": [
      "New best model saved with validation accuracy: 23.57%\n"
     ]
    },
    {
     "name": "stderr",
     "output_type": "stream",
     "text": [
      "Epoch 27/100 [Train]: 100%|██████████| 352/352 [00:18<00:00, 19.37it/s, loss=0.034, acc=19.75%]\n",
      "Epoch 27/100 [Val]: 100%|██████████| 47/47 [00:01<00:00, 38.08it/s, loss=0.032, acc=22.83%]\n",
      "Epoch 28/100 [Train]: 100%|██████████| 352/352 [00:18<00:00, 19.37it/s, loss=0.033, acc=19.96%]\n",
      "Epoch 28/100 [Val]: 100%|██████████| 47/47 [00:01<00:00, 36.98it/s, loss=0.032, acc=22.97%]\n",
      "Epoch 29/100 [Train]: 100%|██████████| 352/352 [00:17<00:00, 20.41it/s, loss=0.033, acc=19.95%]\n",
      "Epoch 29/100 [Val]: 100%|██████████| 47/47 [00:01<00:00, 34.64it/s, loss=0.033, acc=20.57%]\n",
      "Epoch 30/100 [Train]: 100%|██████████| 352/352 [00:18<00:00, 19.44it/s, loss=0.033, acc=20.89%]\n",
      "Epoch 30/100 [Val]: 100%|██████████| 47/47 [00:01<00:00, 37.25it/s, loss=0.031, acc=24.30%]\n"
     ]
    },
    {
     "name": "stdout",
     "output_type": "stream",
     "text": [
      "New best model saved with validation accuracy: 24.30%\n"
     ]
    },
    {
     "name": "stderr",
     "output_type": "stream",
     "text": [
      "Epoch 31/100 [Train]: 100%|██████████| 352/352 [00:18<00:00, 19.26it/s, loss=0.033, acc=20.78%]\n",
      "Epoch 31/100 [Val]: 100%|██████████| 47/47 [00:01<00:00, 38.45it/s, loss=0.031, acc=24.63%]\n"
     ]
    },
    {
     "name": "stdout",
     "output_type": "stream",
     "text": [
      "New best model saved with validation accuracy: 24.63%\n"
     ]
    },
    {
     "name": "stderr",
     "output_type": "stream",
     "text": [
      "Epoch 32/100 [Train]: 100%|██████████| 352/352 [00:17<00:00, 20.57it/s, loss=0.032, acc=21.04%]\n",
      "Epoch 32/100 [Val]: 100%|██████████| 47/47 [00:01<00:00, 38.63it/s, loss=0.032, acc=22.07%]\n",
      "Epoch 33/100 [Train]: 100%|██████████| 352/352 [00:18<00:00, 19.39it/s, loss=0.032, acc=21.25%]\n",
      "Epoch 33/100 [Val]: 100%|██████████| 47/47 [00:01<00:00, 38.39it/s, loss=0.031, acc=24.63%]\n",
      "Epoch 34/100 [Train]: 100%|██████████| 352/352 [00:18<00:00, 19.37it/s, loss=0.032, acc=21.50%]\n",
      "Epoch 34/100 [Val]: 100%|██████████| 47/47 [00:01<00:00, 37.76it/s, loss=0.030, acc=26.43%]\n"
     ]
    },
    {
     "name": "stdout",
     "output_type": "stream",
     "text": [
      "New best model saved with validation accuracy: 26.43%\n"
     ]
    },
    {
     "name": "stderr",
     "output_type": "stream",
     "text": [
      "Epoch 35/100 [Train]: 100%|██████████| 352/352 [00:17<00:00, 20.59it/s, loss=0.032, acc=21.61%]\n",
      "Epoch 35/100 [Val]: 100%|██████████| 47/47 [00:01<00:00, 38.90it/s, loss=0.031, acc=24.20%]\n",
      "Epoch 36/100 [Train]: 100%|██████████| 352/352 [00:18<00:00, 19.51it/s, loss=0.032, acc=22.24%]\n",
      "Epoch 36/100 [Val]: 100%|██████████| 47/47 [00:01<00:00, 37.52it/s, loss=0.030, acc=26.47%]\n"
     ]
    },
    {
     "name": "stdout",
     "output_type": "stream",
     "text": [
      "New best model saved with validation accuracy: 26.47%\n"
     ]
    },
    {
     "name": "stderr",
     "output_type": "stream",
     "text": [
      "Epoch 37/100 [Train]: 100%|██████████| 352/352 [00:18<00:00, 19.39it/s, loss=0.031, acc=22.31%]\n",
      "Epoch 37/100 [Val]: 100%|██████████| 47/47 [00:01<00:00, 37.52it/s, loss=0.030, acc=27.23%]\n"
     ]
    },
    {
     "name": "stdout",
     "output_type": "stream",
     "text": [
      "New best model saved with validation accuracy: 27.23%\n"
     ]
    },
    {
     "name": "stderr",
     "output_type": "stream",
     "text": [
      "Epoch 38/100 [Train]: 100%|██████████| 352/352 [00:17<00:00, 19.69it/s, loss=0.031, acc=22.97%]\n",
      "Epoch 38/100 [Val]: 100%|██████████| 47/47 [00:01<00:00, 39.10it/s, loss=0.030, acc=25.67%]\n",
      "Epoch 39/100 [Train]: 100%|██████████| 352/352 [00:18<00:00, 19.46it/s, loss=0.031, acc=22.64%]\n",
      "Epoch 39/100 [Val]: 100%|██████████| 47/47 [00:01<00:00, 37.68it/s, loss=0.030, acc=25.50%]\n",
      "Epoch 40/100 [Train]: 100%|██████████| 352/352 [00:18<00:00, 19.52it/s, loss=0.031, acc=23.89%]\n",
      "Epoch 40/100 [Val]: 100%|██████████| 47/47 [00:00<00:00, 47.27it/s, loss=0.029, acc=28.60%]\n"
     ]
    },
    {
     "name": "stdout",
     "output_type": "stream",
     "text": [
      "New best model saved with validation accuracy: 28.60%\n"
     ]
    },
    {
     "name": "stderr",
     "output_type": "stream",
     "text": [
      "Epoch 41/100 [Train]: 100%|██████████| 352/352 [00:18<00:00, 19.54it/s, loss=0.031, acc=23.21%]\n",
      "Epoch 41/100 [Val]: 100%|██████████| 47/47 [00:01<00:00, 39.30it/s, loss=0.030, acc=26.57%]\n",
      "Epoch 42/100 [Train]: 100%|██████████| 352/352 [00:18<00:00, 19.42it/s, loss=0.030, acc=24.30%]\n",
      "Epoch 42/100 [Val]: 100%|██████████| 47/47 [00:01<00:00, 37.45it/s, loss=0.029, acc=29.30%]\n"
     ]
    },
    {
     "name": "stdout",
     "output_type": "stream",
     "text": [
      "New best model saved with validation accuracy: 29.30%\n"
     ]
    },
    {
     "name": "stderr",
     "output_type": "stream",
     "text": [
      "Epoch 43/100 [Train]: 100%|██████████| 352/352 [00:17<00:00, 19.60it/s, loss=0.030, acc=24.08%]\n",
      "Epoch 43/100 [Val]: 100%|██████████| 47/47 [00:00<00:00, 50.14it/s, loss=0.029, acc=28.73%]\n",
      "Epoch 44/100 [Train]: 100%|██████████| 352/352 [00:18<00:00, 19.39it/s, loss=0.030, acc=24.04%]\n",
      "Epoch 44/100 [Val]: 100%|██████████| 47/47 [00:01<00:00, 38.45it/s, loss=0.029, acc=29.13%]\n",
      "Epoch 45/100 [Train]: 100%|██████████| 352/352 [00:18<00:00, 19.33it/s, loss=0.030, acc=24.70%]\n",
      "Epoch 45/100 [Val]: 100%|██████████| 47/47 [00:01<00:00, 36.93it/s, loss=0.030, acc=26.70%]\n",
      "Epoch 46/100 [Train]: 100%|██████████| 352/352 [00:17<00:00, 19.61it/s, loss=0.030, acc=25.13%]\n",
      "Epoch 46/100 [Val]: 100%|██████████| 47/47 [00:01<00:00, 35.41it/s, loss=0.028, acc=29.40%]\n"
     ]
    },
    {
     "name": "stdout",
     "output_type": "stream",
     "text": [
      "New best model saved with validation accuracy: 29.40%\n"
     ]
    },
    {
     "name": "stderr",
     "output_type": "stream",
     "text": [
      "Epoch 47/100 [Train]: 100%|██████████| 352/352 [00:20<00:00, 16.98it/s, loss=0.030, acc=25.27%]\n",
      "Epoch 47/100 [Val]: 100%|██████████| 47/47 [00:01<00:00, 37.26it/s, loss=0.028, acc=29.63%]\n"
     ]
    },
    {
     "name": "stdout",
     "output_type": "stream",
     "text": [
      "New best model saved with validation accuracy: 29.63%\n"
     ]
    },
    {
     "name": "stderr",
     "output_type": "stream",
     "text": [
      "Epoch 48/100 [Train]: 100%|██████████| 352/352 [00:17<00:00, 19.66it/s, loss=0.030, acc=24.91%]\n",
      "Epoch 48/100 [Val]: 100%|██████████| 47/47 [00:01<00:00, 39.23it/s, loss=0.028, acc=30.87%]\n"
     ]
    },
    {
     "name": "stdout",
     "output_type": "stream",
     "text": [
      "New best model saved with validation accuracy: 30.87%\n"
     ]
    },
    {
     "name": "stderr",
     "output_type": "stream",
     "text": [
      "Epoch 49/100 [Train]: 100%|██████████| 352/352 [00:17<00:00, 20.10it/s, loss=0.029, acc=25.42%]\n",
      "Epoch 49/100 [Val]: 100%|██████████| 47/47 [00:01<00:00, 38.78it/s, loss=0.029, acc=27.53%]\n",
      "Epoch 50/100 [Train]: 100%|██████████| 352/352 [00:18<00:00, 19.39it/s, loss=0.030, acc=25.77%]\n",
      "Epoch 50/100 [Val]: 100%|██████████| 47/47 [00:01<00:00, 38.29it/s, loss=0.028, acc=31.10%]\n"
     ]
    },
    {
     "name": "stdout",
     "output_type": "stream",
     "text": [
      "New best model saved with validation accuracy: 31.10%\n"
     ]
    },
    {
     "name": "stderr",
     "output_type": "stream",
     "text": [
      "Epoch 51/100 [Train]: 100%|██████████| 352/352 [00:18<00:00, 19.35it/s, loss=0.029, acc=26.13%]\n",
      "Epoch 51/100 [Val]: 100%|██████████| 47/47 [00:01<00:00, 41.75it/s, loss=0.028, acc=31.57%]\n"
     ]
    },
    {
     "name": "stdout",
     "output_type": "stream",
     "text": [
      "New best model saved with validation accuracy: 31.57%\n"
     ]
    },
    {
     "name": "stderr",
     "output_type": "stream",
     "text": [
      "Epoch 52/100 [Train]: 100%|██████████| 352/352 [00:18<00:00, 19.30it/s, loss=0.029, acc=26.45%]\n",
      "Epoch 52/100 [Val]: 100%|██████████| 47/47 [00:01<00:00, 39.28it/s, loss=0.027, acc=33.50%]\n"
     ]
    },
    {
     "name": "stdout",
     "output_type": "stream",
     "text": [
      "New best model saved with validation accuracy: 33.50%\n"
     ]
    },
    {
     "name": "stderr",
     "output_type": "stream",
     "text": [
      "Epoch 53/100 [Train]: 100%|██████████| 352/352 [00:18<00:00, 19.38it/s, loss=0.029, acc=26.15%]\n",
      "Epoch 53/100 [Val]: 100%|██████████| 47/47 [00:01<00:00, 40.31it/s, loss=0.028, acc=33.00%]\n",
      "Epoch 54/100 [Train]: 100%|██████████| 352/352 [00:17<00:00, 19.74it/s, loss=0.029, acc=27.00%]\n",
      "Epoch 54/100 [Val]: 100%|██████████| 47/47 [00:01<00:00, 42.70it/s, loss=0.028, acc=33.17%]\n",
      "Epoch 55/100 [Train]: 100%|██████████| 352/352 [00:18<00:00, 19.42it/s, loss=0.029, acc=27.04%]\n",
      "Epoch 55/100 [Val]: 100%|██████████| 47/47 [00:01<00:00, 38.17it/s, loss=0.029, acc=25.87%]\n",
      "Epoch 56/100 [Train]: 100%|██████████| 352/352 [00:18<00:00, 19.37it/s, loss=0.028, acc=27.38%]\n",
      "Epoch 56/100 [Val]: 100%|██████████| 47/47 [00:01<00:00, 38.28it/s, loss=0.027, acc=33.20%]\n",
      "Epoch 57/100 [Train]: 100%|██████████| 352/352 [00:17<00:00, 19.66it/s, loss=0.028, acc=27.45%]\n",
      "Epoch 57/100 [Val]: 100%|██████████| 47/47 [00:01<00:00, 40.59it/s, loss=0.027, acc=31.07%]\n",
      "Epoch 58/100 [Train]: 100%|██████████| 352/352 [00:18<00:00, 19.45it/s, loss=0.028, acc=27.64%]\n",
      "Epoch 58/100 [Val]: 100%|██████████| 47/47 [00:01<00:00, 37.13it/s, loss=0.027, acc=32.90%]\n",
      "Epoch 59/100 [Train]: 100%|██████████| 352/352 [00:18<00:00, 19.34it/s, loss=0.028, acc=27.50%]\n",
      "Epoch 59/100 [Val]: 100%|██████████| 47/47 [00:01<00:00, 40.63it/s, loss=0.027, acc=31.80%]\n",
      "Epoch 60/100 [Train]: 100%|██████████| 352/352 [00:17<00:00, 19.97it/s, loss=0.028, acc=28.04%]\n",
      "Epoch 60/100 [Val]: 100%|██████████| 47/47 [00:01<00:00, 41.95it/s, loss=0.027, acc=34.63%]\n"
     ]
    },
    {
     "name": "stdout",
     "output_type": "stream",
     "text": [
      "New best model saved with validation accuracy: 34.63%\n"
     ]
    },
    {
     "name": "stderr",
     "output_type": "stream",
     "text": [
      "Epoch 61/100 [Train]: 100%|██████████| 352/352 [00:18<00:00, 19.45it/s, loss=0.028, acc=28.08%]\n",
      "Epoch 61/100 [Val]: 100%|██████████| 47/47 [00:01<00:00, 38.19it/s, loss=0.027, acc=34.33%]\n",
      "Epoch 62/100 [Train]: 100%|██████████| 352/352 [00:18<00:00, 19.44it/s, loss=0.028, acc=28.37%]\n",
      "Epoch 62/100 [Val]: 100%|██████████| 47/47 [00:01<00:00, 38.13it/s, loss=0.027, acc=31.60%]\n",
      "Epoch 63/100 [Train]: 100%|██████████| 352/352 [00:17<00:00, 20.02it/s, loss=0.028, acc=28.94%]\n",
      "Epoch 63/100 [Val]: 100%|██████████| 47/47 [00:01<00:00, 39.73it/s, loss=0.026, acc=34.83%]\n"
     ]
    },
    {
     "name": "stdout",
     "output_type": "stream",
     "text": [
      "New best model saved with validation accuracy: 34.83%\n"
     ]
    },
    {
     "name": "stderr",
     "output_type": "stream",
     "text": [
      "Epoch 64/100 [Train]: 100%|██████████| 352/352 [00:18<00:00, 19.45it/s, loss=0.028, acc=28.71%]\n",
      "Epoch 64/100 [Val]: 100%|██████████| 47/47 [00:01<00:00, 37.89it/s, loss=0.026, acc=36.23%]\n"
     ]
    },
    {
     "name": "stdout",
     "output_type": "stream",
     "text": [
      "New best model saved with validation accuracy: 36.23%\n"
     ]
    },
    {
     "name": "stderr",
     "output_type": "stream",
     "text": [
      "Epoch 65/100 [Train]: 100%|██████████| 352/352 [00:18<00:00, 19.31it/s, loss=0.027, acc=29.20%]\n",
      "Epoch 65/100 [Val]: 100%|██████████| 47/47 [00:01<00:00, 45.29it/s, loss=0.028, acc=29.90%]\n",
      "Epoch 66/100 [Train]: 100%|██████████| 352/352 [00:17<00:00, 19.77it/s, loss=0.027, acc=29.14%]\n",
      "Epoch 66/100 [Val]: 100%|██████████| 47/47 [00:01<00:00, 37.39it/s, loss=0.026, acc=34.30%]\n",
      "Epoch 67/100 [Train]: 100%|██████████| 352/352 [00:18<00:00, 19.04it/s, loss=0.027, acc=29.39%]\n",
      "Epoch 67/100 [Val]: 100%|██████████| 47/47 [00:01<00:00, 36.02it/s, loss=0.027, acc=33.23%]\n",
      "Epoch 68/100 [Train]: 100%|██████████| 352/352 [00:20<00:00, 17.05it/s, loss=0.027, acc=29.58%]\n",
      "Epoch 68/100 [Val]: 100%|██████████| 47/47 [00:00<00:00, 48.06it/s, loss=0.027, acc=32.90%]\n",
      "Epoch 69/100 [Train]: 100%|██████████| 352/352 [00:18<00:00, 19.42it/s, loss=0.027, acc=29.77%]\n",
      "Epoch 69/100 [Val]: 100%|██████████| 47/47 [00:01<00:00, 39.30it/s, loss=0.027, acc=31.93%]\n",
      "Epoch 70/100 [Train]: 100%|██████████| 352/352 [00:18<00:00, 19.41it/s, loss=0.027, acc=30.04%]\n",
      "Epoch 70/100 [Val]: 100%|██████████| 47/47 [00:01<00:00, 37.43it/s, loss=0.027, acc=31.70%]\n",
      "Epoch 71/100 [Train]: 100%|██████████| 352/352 [00:18<00:00, 19.16it/s, loss=0.027, acc=30.89%]\n",
      "Epoch 71/100 [Val]: 100%|██████████| 47/47 [00:01<00:00, 46.28it/s, loss=0.027, acc=33.83%]\n",
      "Epoch 72/100 [Train]: 100%|██████████| 352/352 [00:18<00:00, 19.14it/s, loss=0.027, acc=30.42%]\n",
      "Epoch 72/100 [Val]: 100%|██████████| 47/47 [00:01<00:00, 37.01it/s, loss=0.026, acc=36.63%]\n"
     ]
    },
    {
     "name": "stdout",
     "output_type": "stream",
     "text": [
      "New best model saved with validation accuracy: 36.63%\n"
     ]
    },
    {
     "name": "stderr",
     "output_type": "stream",
     "text": [
      "Epoch 73/100 [Train]: 100%|██████████| 352/352 [00:18<00:00, 19.19it/s, loss=0.027, acc=30.53%]\n",
      "Epoch 73/100 [Val]: 100%|██████████| 47/47 [00:01<00:00, 39.94it/s, loss=0.026, acc=35.87%]\n",
      "Epoch 74/100 [Train]: 100%|██████████| 352/352 [00:17<00:00, 19.98it/s, loss=0.027, acc=30.79%]\n",
      "Epoch 74/100 [Val]: 100%|██████████| 47/47 [00:01<00:00, 37.35it/s, loss=0.026, acc=36.63%]\n",
      "Epoch 75/100 [Train]: 100%|██████████| 352/352 [00:18<00:00, 19.18it/s, loss=0.026, acc=31.16%]\n",
      "Epoch 75/100 [Val]: 100%|██████████| 47/47 [00:01<00:00, 39.52it/s, loss=0.026, acc=36.50%]\n",
      "Epoch 76/100 [Train]: 100%|██████████| 352/352 [00:18<00:00, 19.31it/s, loss=0.026, acc=31.12%]\n",
      "Epoch 76/100 [Val]: 100%|██████████| 47/47 [00:01<00:00, 38.86it/s, loss=0.025, acc=38.43%]\n"
     ]
    },
    {
     "name": "stdout",
     "output_type": "stream",
     "text": [
      "New best model saved with validation accuracy: 38.43%\n"
     ]
    },
    {
     "name": "stderr",
     "output_type": "stream",
     "text": [
      "Epoch 77/100 [Train]: 100%|██████████| 352/352 [00:17<00:00, 20.46it/s, loss=0.026, acc=31.09%]\n",
      "Epoch 77/100 [Val]: 100%|██████████| 47/47 [00:00<00:00, 56.33it/s, loss=0.026, acc=37.37%]\n",
      "Epoch 78/100 [Train]: 100%|██████████| 352/352 [00:18<00:00, 19.25it/s, loss=0.026, acc=31.44%]\n",
      "Epoch 78/100 [Val]: 100%|██████████| 47/47 [00:01<00:00, 39.53it/s, loss=0.026, acc=35.93%]\n",
      "Epoch 79/100 [Train]: 100%|██████████| 352/352 [00:18<00:00, 19.18it/s, loss=0.026, acc=32.48%]\n",
      "Epoch 79/100 [Val]: 100%|██████████| 47/47 [00:01<00:00, 37.13it/s, loss=0.025, acc=38.40%]\n",
      "Epoch 80/100 [Train]: 100%|██████████| 352/352 [00:17<00:00, 19.61it/s, loss=0.026, acc=31.84%]\n",
      "Epoch 80/100 [Val]: 100%|██████████| 47/47 [00:01<00:00, 35.81it/s, loss=0.026, acc=35.80%]\n",
      "Epoch 81/100 [Train]: 100%|██████████| 352/352 [00:18<00:00, 19.55it/s, loss=0.026, acc=32.42%]\n",
      "Epoch 81/100 [Val]: 100%|██████████| 47/47 [00:01<00:00, 38.86it/s, loss=0.025, acc=38.00%]\n",
      "Epoch 82/100 [Train]: 100%|██████████| 352/352 [00:18<00:00, 19.51it/s, loss=0.026, acc=32.42%]\n",
      "Epoch 82/100 [Val]: 100%|██████████| 47/47 [00:01<00:00, 38.29it/s, loss=0.025, acc=36.17%]\n",
      "Epoch 83/100 [Train]: 100%|██████████| 352/352 [00:17<00:00, 19.75it/s, loss=0.026, acc=32.58%]\n",
      "Epoch 83/100 [Val]: 100%|██████████| 47/47 [00:00<00:00, 55.38it/s, loss=0.026, acc=37.83%]\n",
      "Epoch 84/100 [Train]: 100%|██████████| 352/352 [00:18<00:00, 19.44it/s, loss=0.025, acc=32.55%]\n",
      "Epoch 84/100 [Val]: 100%|██████████| 47/47 [00:01<00:00, 39.52it/s, loss=0.025, acc=37.43%]\n",
      "Epoch 85/100 [Train]: 100%|██████████| 352/352 [00:18<00:00, 19.22it/s, loss=0.025, acc=32.56%]\n",
      "Epoch 85/100 [Val]: 100%|██████████| 47/47 [00:01<00:00, 38.68it/s, loss=0.026, acc=35.77%]\n",
      "Epoch 86/100 [Train]: 100%|██████████| 352/352 [00:18<00:00, 19.29it/s, loss=0.025, acc=32.63%]\n",
      "Epoch 86/100 [Val]: 100%|██████████| 47/47 [00:01<00:00, 44.99it/s, loss=0.025, acc=37.90%]\n",
      "Epoch 87/100 [Train]: 100%|██████████| 352/352 [00:18<00:00, 19.55it/s, loss=0.025, acc=32.73%]\n",
      "Epoch 87/100 [Val]: 100%|██████████| 47/47 [00:01<00:00, 37.93it/s, loss=0.025, acc=37.53%]\n",
      "Epoch 88/100 [Train]: 100%|██████████| 352/352 [00:17<00:00, 19.76it/s, loss=0.025, acc=34.08%]\n",
      "Epoch 88/100 [Val]: 100%|██████████| 47/47 [00:01<00:00, 37.26it/s, loss=0.025, acc=38.03%]\n",
      "Epoch 89/100 [Train]: 100%|██████████| 352/352 [00:17<00:00, 19.73it/s, loss=0.025, acc=33.81%]\n",
      "Epoch 89/100 [Val]: 100%|██████████| 47/47 [00:01<00:00, 38.47it/s, loss=0.025, acc=36.90%]\n",
      "Epoch 90/100 [Train]: 100%|██████████| 352/352 [00:17<00:00, 19.69it/s, loss=0.025, acc=33.24%]\n",
      "Epoch 90/100 [Val]: 100%|██████████| 47/47 [00:01<00:00, 38.77it/s, loss=0.025, acc=40.27%]\n"
     ]
    },
    {
     "name": "stdout",
     "output_type": "stream",
     "text": [
      "New best model saved with validation accuracy: 40.27%\n"
     ]
    },
    {
     "name": "stderr",
     "output_type": "stream",
     "text": [
      "Epoch 91/100 [Train]: 100%|██████████| 352/352 [00:18<00:00, 19.27it/s, loss=0.025, acc=34.17%]\n",
      "Epoch 91/100 [Val]: 100%|██████████| 47/47 [00:01<00:00, 39.06it/s, loss=0.025, acc=39.90%]\n",
      "Epoch 92/100 [Train]: 100%|██████████| 352/352 [00:17<00:00, 19.67it/s, loss=0.025, acc=34.41%]\n",
      "Epoch 92/100 [Val]: 100%|██████████| 47/47 [00:01<00:00, 46.68it/s, loss=0.025, acc=38.87%]\n",
      "Epoch 93/100 [Train]: 100%|██████████| 352/352 [00:17<00:00, 19.92it/s, loss=0.025, acc=34.94%]\n",
      "Epoch 93/100 [Val]: 100%|██████████| 47/47 [00:01<00:00, 37.87it/s, loss=0.025, acc=38.13%]\n",
      "Epoch 94/100 [Train]: 100%|██████████| 352/352 [00:18<00:00, 19.24it/s, loss=0.025, acc=33.90%]\n",
      "Epoch 94/100 [Val]: 100%|██████████| 47/47 [00:01<00:00, 36.87it/s, loss=0.025, acc=38.03%]\n",
      "Epoch 95/100 [Train]: 100%|██████████| 352/352 [00:18<00:00, 19.14it/s, loss=0.025, acc=34.17%]\n",
      "Epoch 95/100 [Val]: 100%|██████████| 47/47 [00:00<00:00, 50.72it/s, loss=0.025, acc=37.80%]\n",
      "Epoch 96/100 [Train]: 100%|██████████| 352/352 [00:17<00:00, 19.61it/s, loss=0.024, acc=34.68%]\n",
      "Epoch 96/100 [Val]: 100%|██████████| 47/47 [00:01<00:00, 38.44it/s, loss=0.025, acc=36.37%]\n",
      "Epoch 97/100 [Train]: 100%|██████████| 352/352 [00:17<00:00, 19.64it/s, loss=0.024, acc=34.68%]\n",
      "Epoch 97/100 [Val]: 100%|██████████| 47/47 [00:01<00:00, 38.72it/s, loss=0.025, acc=39.10%]\n",
      "Epoch 98/100 [Train]: 100%|██████████| 352/352 [00:18<00:00, 19.23it/s, loss=0.024, acc=35.29%]\n",
      "Epoch 98/100 [Val]: 100%|██████████| 47/47 [00:01<00:00, 46.32it/s, loss=0.025, acc=39.67%]\n",
      "Epoch 99/100 [Train]: 100%|██████████| 352/352 [00:17<00:00, 19.99it/s, loss=0.024, acc=35.68%]\n",
      "Epoch 99/100 [Val]: 100%|██████████| 47/47 [00:01<00:00, 38.64it/s, loss=0.025, acc=38.97%]\n",
      "Epoch 100/100 [Train]: 100%|██████████| 352/352 [00:18<00:00, 19.05it/s, loss=0.024, acc=36.15%]\n",
      "Epoch 100/100 [Val]: 100%|██████████| 47/47 [00:01<00:00, 40.85it/s, loss=0.025, acc=39.27%]\n",
      "Testing: 100%|██████████| 71/71 [00:01<00:00, 40.67it/s, loss=0.025, acc=38.84%]\n",
      "Batch sizes: 100%|██████████| 1/1 [32:21<00:00, 1941.41s/it]\n"
     ]
    },
    {
     "name": "stdout",
     "output_type": "stream",
     "text": [
      "\n",
      "Test Accuracy: 38.84%\n",
      "Test Loss: 0.025\n",
      "\n",
      "Best Configuration:\n",
      "Batch Size: 64\n",
      "Learning Rate: 0.0001\n",
      "Test Accuracy: 38.84%\n",
      "\n",
      "Plotting hyperparameter search results...\n",
      "\n",
      "Done! Check the results in:\n",
      "1. hyperparameter_search_results.txt\n",
      "2. hyperparameter_search_results.npy\n",
      "3. hyperparameter_search_plot.png\n",
      "4. Individual training curves in training_curves_*.png files\n"
     ]
    }
   ],
   "source": [
    "def evaluate_model(model, test_loader, criterion, device):\n",
    "    \"\"\"Evaluate model on test set\"\"\"\n",
    "    model.eval()\n",
    "    test_loss = 0\n",
    "    test_correct = 0\n",
    "    test_total = 0\n",
    "    \n",
    "    all_preds = []\n",
    "    all_labels = []\n",
    "    \n",
    "    with torch.no_grad():\n",
    "        test_bar = tqdm(test_loader, desc='Testing')\n",
    "        for batch in test_bar:\n",
    "            inputs = batch['transformed'].to(device)\n",
    "            labels = batch['label'].to(device)\n",
    "            \n",
    "            outputs = model(inputs)\n",
    "            loss = criterion(outputs, labels)\n",
    "            \n",
    "            test_loss += loss.item()\n",
    "            _, predicted = outputs.max(1)\n",
    "            test_total += labels.size(0)\n",
    "            test_correct += predicted.eq(labels).sum().item()\n",
    "            \n",
    "            all_preds.extend(predicted.cpu().numpy())\n",
    "            all_labels.extend(labels.cpu().numpy())\n",
    "            \n",
    "            test_bar.set_postfix({\n",
    "                'loss': f'{test_loss/test_total:.3f}',\n",
    "                'acc': f'{100.*test_correct/test_total:.2f}%'\n",
    "            })\n",
    "    \n",
    "    test_acc = 100. * test_correct / test_total\n",
    "    print(f'\\nTest Accuracy: {test_acc:.2f}%')\n",
    "    print(f'Test Loss: {test_loss/test_total:.3f}')\n",
    "    \n",
    "    return test_acc, test_loss/test_total, all_preds, all_labels\n",
    "\n",
    "def run_hyperparameter_search(train_dataset, val_dataset, test_dataset, device):\n",
    "    \"\"\"Run grid search over batch sizes and learning rates\"\"\"\n",
    "    \n",
    "    # Define hyperparameter grid\n",
    "    batch_sizes = [64]\n",
    "    # batch_sizes = [64, 128, 256]\n",
    "    learning_rates = [1e-4]\n",
    "    # learning_rates = [1e-3, 5e-4, 1e-4]\n",
    "    \n",
    "    # Store results\n",
    "    results = []\n",
    "    \n",
    "    # Open file for logging results\n",
    "    with open('hyperparameter_search_results.txt', 'w') as f:\n",
    "        f.write(\"Hyperparameter Search Results\\n\")\n",
    "        f.write(\"============================\\n\\n\")\n",
    "        \n",
    "        for batch_size in tqdm(batch_sizes, desc=\"Batch sizes\"):\n",
    "            for lr in learning_rates:\n",
    "                print(f\"\\nTesting batch_size={batch_size}, learning_rate={lr}\")\n",
    "                f.write(f\"\\nBatch Size: {batch_size}, Learning Rate: {lr}\\n\")\n",
    "                f.write(\"-----------------------------------------\\n\")\n",
    "                \n",
    "                # Create data loaders\n",
    "                train_loader = DataLoader(\n",
    "                    train_dataset, \n",
    "                    batch_size=batch_size, \n",
    "                    shuffle=True, \n",
    "                    collate_fn=custom_collate,\n",
    "                    num_workers=4\n",
    "                )\n",
    "                val_loader = DataLoader(\n",
    "                    val_dataset, \n",
    "                    batch_size=batch_size, \n",
    "                    shuffle=False, \n",
    "                    collate_fn=custom_collate,\n",
    "                    num_workers=4\n",
    "                )\n",
    "                test_loader = DataLoader(\n",
    "                    test_dataset, \n",
    "                    batch_size=batch_size, \n",
    "                    shuffle=False, \n",
    "                    collate_fn=custom_collate,\n",
    "                    num_workers=4\n",
    "                )\n",
    "                \n",
    "                # Initialize model\n",
    "                model = CustomCNN().to(device)\n",
    "                \n",
    "                # Define loss function and optimizer\n",
    "                criterion = nn.CrossEntropyLoss()\n",
    "                optimizer = optim.AdamW(model.parameters(), lr=lr, weight_decay=5e-4)\n",
    "                \n",
    "                # Train model\n",
    "                history = train_model(\n",
    "                    train_loader,\n",
    "                    val_loader,\n",
    "                    model,\n",
    "                    criterion,\n",
    "                    optimizer,\n",
    "                    device,\n",
    "                    num_epochs=100,\n",
    "                    lr=lr,\n",
    "                    batch_size=batch_size\n",
    "                )\n",
    "                \n",
    "                # Save training curves for this configuration\n",
    "                plt.figure(figsize=(15, 5))\n",
    "                plt.subplot(1, 2, 1)\n",
    "                plt.plot(history['train_loss'], label='Train Loss')\n",
    "                plt.plot(history['val_loss'], label='Val Loss')\n",
    "                plt.title(f'Loss (batch={batch_size}, lr={lr})')\n",
    "                plt.xlabel('Epoch')\n",
    "                plt.ylabel('Loss')\n",
    "                plt.legend()\n",
    "                \n",
    "                plt.subplot(1, 2, 2)\n",
    "                plt.plot(history['train_acc'], label='Train Acc')\n",
    "                plt.plot(history['val_acc'], label='Val Acc')\n",
    "                plt.title(f'Accuracy (batch={batch_size}, lr={lr})')\n",
    "                plt.xlabel('Epoch')\n",
    "                plt.ylabel('Accuracy (%)')\n",
    "                plt.legend()\n",
    "                \n",
    "                plt.tight_layout()\n",
    "                plt.savefig(f'training_curves_batch{batch_size}_lr{lr}.png')\n",
    "                plt.close()\n",
    "                \n",
    "                # Evaluate on test set\n",
    "                test_acc, test_loss, preds, labels = evaluate_model(\n",
    "                    model, test_loader, criterion, device\n",
    "                )\n",
    "                \n",
    "                # Store results\n",
    "                result = {\n",
    "                    'batch_size': batch_size,\n",
    "                    'learning_rate': lr,\n",
    "                    'final_train_loss': history['train_loss'][-1],\n",
    "                    'final_val_loss': history['val_loss'][-1],\n",
    "                    'final_train_acc': history['train_acc'][-1],\n",
    "                    'final_val_acc': history['val_acc'][-1],\n",
    "                    'test_acc': test_acc,\n",
    "                    'test_loss': test_loss\n",
    "                }\n",
    "                results.append(result)\n",
    "                \n",
    "                # Log results\n",
    "                f.write(f\"Final Train Loss: {result['final_train_loss']:.4f}\\n\")\n",
    "                f.write(f\"Final Val Loss: {result['final_val_loss']:.4f}\\n\")\n",
    "                f.write(f\"Final Train Accuracy: {result['final_train_acc']:.2f}%\\n\")\n",
    "                f.write(f\"Final Val Accuracy: {result['final_val_acc']:.2f}%\\n\")\n",
    "                f.write(f\"Test Accuracy: {result['test_acc']:.2f}%\\n\")\n",
    "                f.write(f\"Test Loss: {result['test_loss']:.4f}\\n\\n\")\n",
    "                    \n",
    "    # Find best configuration\n",
    "    best_result = max(results, key=lambda x: x['test_acc'])\n",
    "    print(\"\\nBest Configuration:\")\n",
    "    print(f\"Batch Size: {best_result['batch_size']}\")\n",
    "    print(f\"Learning Rate: {best_result['learning_rate']}\")\n",
    "    print(f\"Test Accuracy: {best_result['test_acc']:.2f}%\")\n",
    "    \n",
    "    # Save all results to numpy file\n",
    "    np.save('hyperparameter_search_results.npy', results)\n",
    "    \n",
    "    return results\n",
    "\n",
    "def main():\n",
    "    # Set random seed for reproducibility\n",
    "    torch.manual_seed(42)\n",
    "    \n",
    "    # Load data\n",
    "    print(\"Loading data...\")\n",
    "    data_path = '/scratch/gaurav.bhole/MLNS_data/'\n",
    "    \n",
    "    # Load data files with progress bar\n",
    "    data_files = {\n",
    "        'data0': 'data0.npy',\n",
    "        'data1': 'data1.npy',\n",
    "        'data2': 'data2.npy',\n",
    "        'lab0': 'lab0.npy',\n",
    "        'lab1': 'lab1.npy',\n",
    "        'lab2': 'lab2.npy'\n",
    "    }\n",
    "    \n",
    "    loaded_data = {}\n",
    "    for name, filename in tqdm(data_files.items(), desc=\"Loading data files\"):\n",
    "        loaded_data[name] = np.load(data_path + filename)\n",
    "    \n",
    "    # Combine the data\n",
    "    print(\"\\nCombining datasets...\")\n",
    "    train_data = np.concatenate(\n",
    "        (loaded_data['data0'], loaded_data['data1'], loaded_data['data2']), \n",
    "        axis=0\n",
    "    )\n",
    "    lab_data = np.concatenate(\n",
    "        (loaded_data['lab0'], loaded_data['lab1'], loaded_data['lab2']), \n",
    "        axis=0\n",
    "    )\n",
    "    \n",
    "    print(f\"Final data shapes - Images: {train_data.shape}, Labels: {lab_data.shape}\")\n",
    "    \n",
    "    # Create dataset\n",
    "    print(\"\\nCreating dataset...\")\n",
    "    dataset = DigitDataset(train_data, lab_data)\n",
    "    \n",
    "    # Calculate split sizes\n",
    "    total_size = len(dataset)\n",
    "    train_size = int(0.75 * total_size)\n",
    "    val_size = int(0.10 * total_size)\n",
    "    test_size = total_size - train_size - val_size\n",
    "    \n",
    "    print(f\"\\nSplitting dataset:\")\n",
    "    print(f\"Train size: {train_size}\")\n",
    "    print(f\"Validation size: {val_size}\")\n",
    "    print(f\"Test size: {test_size}\")\n",
    "    \n",
    "    # Split dataset\n",
    "    train_dataset, val_dataset, test_dataset = random_split(\n",
    "        dataset, [train_size, val_size, test_size]\n",
    "    )\n",
    "    \n",
    "    # Set device\n",
    "    device = torch.device('cuda' if torch.cuda.is_available() else 'cpu')\n",
    "    print(f'\\nUsing device: {device}')\n",
    "    \n",
    "    # Run hyperparameter search\n",
    "    print(\"\\nStarting hyperparameter search...\")\n",
    "    results = run_hyperparameter_search(train_dataset, val_dataset, test_dataset, device)\n",
    "    \n",
    "    # Plot final results\n",
    "    print(\"\\nPlotting hyperparameter search results...\")\n",
    "    plt.figure(figsize=(12, 6))\n",
    "    \n",
    "    # Create scatter plot of results\n",
    "    batch_sizes = sorted(list(set([r['batch_size'] for r in results])))\n",
    "    learning_rates = sorted(list(set([r['learning_rate'] for r in results])))\n",
    "    colors = ['red', 'blue', 'green']\n",
    "    \n",
    "    for i, bs in enumerate(batch_sizes):\n",
    "        bs_results = [r for r in results if r['batch_size'] == bs]\n",
    "        plt.plot(\n",
    "            [r['learning_rate'] for r in bs_results],\n",
    "            [r['test_acc'] for r in bs_results],\n",
    "            'o-',\n",
    "            label=f'Batch Size {bs}',\n",
    "            color=colors[i]\n",
    "        )\n",
    "    \n",
    "    plt.xscale('log')\n",
    "    plt.xlabel('Learning Rate')\n",
    "    plt.ylabel('Test Accuracy (%)')\n",
    "    plt.title('Hyperparameter Search Results')\n",
    "    plt.legend()\n",
    "    plt.grid(True)\n",
    "    plt.savefig('hyperparameter_search_plot.png')\n",
    "    plt.close()\n",
    "    \n",
    "    print(\"\\nDone! Check the results in:\")\n",
    "    print(\"1. hyperparameter_search_results.txt\")\n",
    "    print(\"2. hyperparameter_search_results.npy\")\n",
    "    print(\"3. hyperparameter_search_plot.png\")\n",
    "    print(\"4. Individual training curves in training_curves_*.png files\")\n",
    "\n",
    "if __name__ == '__main__':\n",
    "    main()"
   ]
  },
  {
   "cell_type": "code",
   "execution_count": null,
   "metadata": {},
   "outputs": [],
   "source": []
  }
 ],
 "metadata": {
  "kernelspec": {
   "display_name": "base",
   "language": "python",
   "name": "python3"
  },
  "language_info": {
   "codemirror_mode": {
    "name": "ipython",
    "version": 3
   },
   "file_extension": ".py",
   "mimetype": "text/x-python",
   "name": "python",
   "nbconvert_exporter": "python",
   "pygments_lexer": "ipython3",
   "version": "3.10.14"
  }
 },
 "nbformat": 4,
 "nbformat_minor": 2
}
